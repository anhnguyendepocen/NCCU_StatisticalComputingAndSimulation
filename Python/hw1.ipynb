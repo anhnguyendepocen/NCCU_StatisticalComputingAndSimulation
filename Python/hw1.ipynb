{
 "cells": [
  {
   "cell_type": "code",
   "execution_count": 1,
   "metadata": {},
   "outputs": [],
   "source": [
    "import numpy as np"
   ]
  },
  {
   "cell_type": "markdown",
   "metadata": {},
   "source": [
    "$$\n",
    "(1)simulate \\int_{-20}^{20} e^{-|x|} dx=2\\int_0^{20} e^{-x} dx\n",
    "$$"
   ]
  },
  {
   "cell_type": "markdown",
   "metadata": {},
   "source": [
    "$$Let$$$$y = \\frac{1}{20}x$$"
   ]
  },
  {
   "cell_type": "markdown",
   "metadata": {},
   "source": [
    "$$then$$$$\\int_0^{20} e^{-x} dx= \\int_0^1 20e^{-20y} dy$$"
   ]
  },
  {
   "cell_type": "markdown",
   "metadata": {},
   "source": [
    "$$\\int_{-20}^{20} e^{-|x|} dx=2\\int_0^{20} e^{-x} dx=2\\int_0^1 20e^{-20y} dy=40\\int_0^1 e^{-20y} dy$$"
   ]
  },
  {
   "cell_type": "code",
   "execution_count": 27,
   "metadata": {},
   "outputs": [
    {
     "data": {
      "text/plain": [
       "2.0008255320011563"
      ]
     },
     "execution_count": 27,
     "metadata": {},
     "output_type": "execute_result"
    }
   ],
   "source": [
    "n=1000000\n",
    "s = np.random.uniform(0,1,n)\n",
    "\n",
    "40*np.mean(np.exp(-20*s))"
   ]
  },
  {
   "cell_type": "markdown",
   "metadata": {},
   "source": [
    "$$\n",
    "(2)simulate \\int_0^\\infty \\int_0^x e^{-(x+y)} dydx\n",
    "$$"
   ]
  },
  {
   "cell_type": "markdown",
   "metadata": {},
   "source": [
    "$$Let$$$$\\int_0^x 1 dy=\\int_0^\\infty 1_{y<x} dy $$\n",
    "$$ s = \\frac{1}{1+x} , t = \\frac{1}{1+y}$$"
   ]
  },
  {
   "cell_type": "markdown",
   "metadata": {},
   "source": [
    "$$then$$$$\\int_0^\\infty \\int_0^x e^{-(x+y)} dydx= \\int_0^\\infty \\int_0^\\infty e^{-(x+y)}1_{y<x} dydx\n",
    "=\\int_0^1 \\int_0^1 \\frac{1}{s^2} \\frac{1}{t^2}e^{-(\\frac{1}{s}+\\frac{1}{t}-2)}1_{y<x} dtds$$"
   ]
  },
  {
   "cell_type": "code",
   "execution_count": 48,
   "metadata": {},
   "outputs": [],
   "source": [
    "import time"
   ]
  },
  {
   "cell_type": "code",
   "execution_count": 52,
   "metadata": {},
   "outputs": [
    {
     "name": "stdout",
     "output_type": "stream",
     "text": [
      "0.5351134943807915\n"
     ]
    }
   ],
   "source": [
    "n=1000\n",
    "t=np.random.uniform(0,1,n)\n",
    "s=np.random.uniform(0,1,n)\n",
    "sum0=0\n",
    "for i in t:\n",
    "    for j in s:\n",
    "        if i>j:\n",
    "            sum0+=np.exp(-(1/j+1/i-2))*(1/i**2)*(1/j**2)       \n",
    "print((1/n**2)*sum0)"
   ]
  }
 ],
 "metadata": {
  "kernelspec": {
   "display_name": "Python 3",
   "language": "python",
   "name": "python3"
  },
  "language_info": {
   "codemirror_mode": {
    "name": "ipython",
    "version": 3
   },
   "file_extension": ".py",
   "mimetype": "text/x-python",
   "name": "python",
   "nbconvert_exporter": "python",
   "pygments_lexer": "ipython3",
   "version": "3.6.5"
  }
 },
 "nbformat": 4,
 "nbformat_minor": 2
}
